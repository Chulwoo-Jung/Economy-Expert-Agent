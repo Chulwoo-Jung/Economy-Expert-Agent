{
 "cells": [
  {
   "cell_type": "code",
   "execution_count": 2,
   "id": "72c0d7cd",
   "metadata": {},
   "outputs": [
    {
     "name": "stderr",
     "output_type": "stream",
     "text": [
      "huggingface/tokenizers: The current process just got forked, after parallelism has already been used. Disabling parallelism to avoid deadlocks...\n",
      "To disable this warning, you can either:\n",
      "\t- Avoid using `tokenizers` before the fork if possible\n",
      "\t- Explicitly set the environment variable TOKENIZERS_PARALLELISM=(true | false)\n"
     ]
    },
    {
     "name": "stdout",
     "output_type": "stream",
     "text": [
      "As of 2022, the GDP of the United States was approximately $25.46 trillion according to the U.S. Bureau of Economic Analysis (BEA) (source: U.S. Bureau of Economic Analysis, [BEA](https://www.bea.gov)). Additionally, the World Bank reported that the GDP for the same year was $26.007 trillion, indicating a slight variation in estimates (source: World Bank). \n",
      "\n",
      "Looking at more recent data, the GDP is projected to be $27.721 trillion in 2023 and $29.184 trillion in 2024 (source: World Bank). \n",
      "\n",
      "In summary, the GDP of the United States was around $25.46 trillion in 2022, with estimates for 2023 and 2024 showing growth.\n"
     ]
    }
   ],
   "source": [
    "from economy_agent  import get_economy_agent\n",
    "from warnings import filterwarnings\n",
    "filterwarnings('ignore')\n",
    "\n",
    "agent = get_economy_agent()\n",
    "\n",
    "response = agent.invoke({\"question\": \"What is the GDP of the United States?\"})\n",
    "print(response[\"final_answer\"])"
   ]
  },
  {
   "cell_type": "code",
   "execution_count": 11,
   "id": "3ba14f8b",
   "metadata": {},
   "outputs": [
    {
     "name": "stdout",
     "output_type": "stream",
     "text": [
      "* Running on local URL:  http://127.0.0.1:7864\n",
      "* To create a public link, set `share=True` in `launch()`.\n"
     ]
    },
    {
     "data": {
      "text/html": [
       "<div><iframe src=\"http://127.0.0.1:7864/\" width=\"100%\" height=\"500\" allow=\"autoplay; camera; microphone; clipboard-read; clipboard-write;\" frameborder=\"0\" allowfullscreen></iframe></div>"
      ],
      "text/plain": [
       "<IPython.core.display.HTML object>"
      ]
     },
     "metadata": {},
     "output_type": "display_data"
    },
    {
     "data": {
      "text/plain": []
     },
     "execution_count": 11,
     "metadata": {},
     "output_type": "execute_result"
    }
   ],
   "source": [
    "import gradio as gr\n",
    "from economy_agent  import get_economy_agent\n",
    "from warnings import filterwarnings\n",
    "filterwarnings('ignore')\n",
    "\n",
    "agent = get_economy_agent()\n",
    "\n",
    "def agent_fn(user_input:str, history:list[tuple[str, str]]):\n",
    "    input_ = {'question': user_input}\n",
    "    result = agent.invoke(input_)\n",
    "    content = result['final_answer']\n",
    "    \n",
    "    # Format the response in a more readable way\n",
    "    response = content.strip()\n",
    "    \n",
    "    # Add a separator line\n",
    "    response += \"\\n\\n---\\n\\n\"\n",
    "    \n",
    "    # Add tools used in a cleaner format\n",
    "    response += \"Tools used for research:\\n\"\n",
    "    for tool in result['tools']:\n",
    "        # Convert tool name to more readable format\n",
    "        readable_tool = tool.replace(\"_\", \" \").title()\n",
    "        response += f\"• {readable_tool}\\n\"\n",
    "        \n",
    "    return response\n",
    "\n",
    "example_questions = [\n",
    "    \"How impact the US tariff policy on the EU economy?\",\n",
    "    \"What is the current trend of the US stock market?\",\n",
    "    \"What is the inflation rate in the germany?\",\n",
    "    \"Show me the today's important news about the economy\",\n",
    "]\n",
    "\n",
    "demo = gr.ChatInterface(\n",
    "    fn = agent_fn,\n",
    "    title = \"Economy Agent\",\n",
    "    description = \"Ask anything about the economy \",\n",
    "    examples = example_questions,\n",
    "    theme=gr.themes.Soft())\n",
    "\n",
    "demo.launch()"
   ]
  },
  {
   "cell_type": "code",
   "execution_count": 12,
   "id": "e8bbb14e",
   "metadata": {},
   "outputs": [
    {
     "name": "stdout",
     "output_type": "stream",
     "text": [
      "Closing server running on port: 7864\n"
     ]
    }
   ],
   "source": [
    "demo.close()"
   ]
  }
 ],
 "metadata": {
  "kernelspec": {
   "display_name": "langgraph_venv",
   "language": "python",
   "name": "python3"
  },
  "language_info": {
   "codemirror_mode": {
    "name": "ipython",
    "version": 3
   },
   "file_extension": ".py",
   "mimetype": "text/x-python",
   "name": "python",
   "nbconvert_exporter": "python",
   "pygments_lexer": "ipython3",
   "version": "3.11.2"
  }
 },
 "nbformat": 4,
 "nbformat_minor": 5
}
